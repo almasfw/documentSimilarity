{
 "cells": [
  {
   "cell_type": "code",
   "execution_count": 14,
   "metadata": {},
   "outputs": [],
   "source": [
    "import re\n",
    "import nltk\n",
    "import string\n",
    "from Sastrawi.Stemmer.StemmerFactory import StemmerFactory"
   ]
  },
  {
   "cell_type": "code",
   "execution_count": 25,
   "metadata": {},
   "outputs": [
    {
     "name": "stdout",
     "output_type": "stream",
     "text": [
      "Abstrak = Pengambilan keputusan dalam penentuan pemenang tender pekerjaan konstruksi (tidak kompleks) pada pembangunan gedung kuliah Fakultas Ekonomi Univesitas Udayana (UNUD) oleh panitia tender di Bagian Perlengkapan Rektorat UNUD masih dilakukan secara manual (dengan software Microsoft Excel dan Word), sehingga untuk membantu dan mempercepat pengambilan keputusan tersebut (dalam situasi beberapa/banyak peserta tender memenuhi semua evaluasi kriteria dan memiliki harga penawaran terkoreksi terendah yang sama di bawah HPS) maka penelitian ini bertujuan untuk membangun SPK (Sistem Pendukung Keputusan) dengan metode Fuzzy AHP. Versi Fuzzy AHP yang dipakai adalah model Chang (1992) karena memiliki langkah-langkah sederhana dan mudah diaplikasikan pada penelitian ini. Hasil penelitian menunjukkan bahwa SPK yang dibangun menghasilkan perangkingan peserta 1, 2, dan 3 yang sama dengan sistem manual yang ada di Bagian Perlengkapan Rektorat UNUD, meskipun perangkingan 4, 5, 6 yang juga dihasilkan SPK ini tidak ada di sistem manual karena perangkingan 4, 5, 6 tidak memenuhi evaluasi kriteria kualifikasi (syarat untuk lulus tender adalah memenuhi semua evaluasi kriteria). Maka disimpulkan bahwa SPK yang dibangun menghasillkan informasi yang valid.\n",
      "\n"
     ]
    }
   ],
   "source": [
    "f = open('1.txt', 'r')\n",
    "\n",
    "for i in range(4):\n",
    "    f.readline()\n",
    "abstrak = f.readline()\n",
    "\n",
    "print('Abstrak = ' + abstrak)"
   ]
  },
  {
   "cell_type": "code",
   "execution_count": 26,
   "metadata": {},
   "outputs": [
    {
     "name": "stdout",
     "output_type": "stream",
     "text": [
      "['Pengambilan keputusan dalam penentuan pemenang tender pekerjaan konstruksi (tidak kompleks) pada pembangunan gedung kuliah Fakultas Ekonomi Univesitas Udayana (UNUD) oleh panitia tender di Bagian Perlengkapan Rektorat UNUD masih dilakukan secara manual (dengan software Microsoft Excel dan Word), sehingga untuk membantu dan mempercepat pengambilan keputusan tersebut (dalam situasi beberapa/banyak peserta tender memenuhi semua evaluasi kriteria dan memiliki harga penawaran terkoreksi terendah yang sama di bawah HPS) maka penelitian ini bertujuan untuk membangun SPK (Sistem Pendukung Keputusan) dengan metode Fuzzy AHP.', 'Versi Fuzzy AHP yang dipakai adalah model Chang (1992) karena memiliki langkah-langkah sederhana dan mudah diaplikasikan pada penelitian ini.', 'Hasil penelitian menunjukkan bahwa SPK yang dibangun menghasilkan perangkingan peserta 1, 2, dan 3 yang sama dengan sistem manual yang ada di Bagian Perlengkapan Rektorat UNUD, meskipun perangkingan 4, 5, 6 yang juga dihasilkan SPK ini tidak ada di sistem manual karena perangkingan 4, 5, 6 tidak memenuhi evaluasi kriteria kualifikasi (syarat untuk lulus tender adalah memenuhi semua evaluasi kriteria).', 'Maka disimpulkan bahwa SPK yang dibangun menghasillkan informasi yang valid.']\n"
     ]
    }
   ],
   "source": [
    "\"\"\" TOKENIZING \"\"\"\n",
    "tokensAbstrak = nltk.tokenize.sent_tokenize(abstrak)\n",
    "\n",
    "print(tokensAbstrak)"
   ]
  },
  {
   "cell_type": "code",
   "execution_count": 27,
   "metadata": {},
   "outputs": [
    {
     "name": "stdout",
     "output_type": "stream",
     "text": [
      "['pengambilan keputusan dalam penentuan pemenang tender pekerjaan konstruksi (tidak kompleks) pada pembangunan gedung kuliah fakultas ekonomi univesitas udayana (unud) oleh panitia tender di bagian perlengkapan rektorat unud masih dilakukan secara manual (dengan software microsoft excel dan word), sehingga untuk membantu dan mempercepat pengambilan keputusan tersebut (dalam situasi beberapa/banyak peserta tender memenuhi semua evaluasi kriteria dan memiliki harga penawaran terkoreksi terendah yang sama di bawah hps) maka penelitian ini bertujuan untuk membangun spk (sistem pendukung keputusan) dengan metode fuzzy ahp.', 'versi fuzzy ahp yang dipakai adalah model chang (1992) karena memiliki langkah-langkah sederhana dan mudah diaplikasikan pada penelitian ini.', 'hasil penelitian menunjukkan bahwa spk yang dibangun menghasilkan perangkingan peserta 1, 2, dan 3 yang sama dengan sistem manual yang ada di bagian perlengkapan rektorat unud, meskipun perangkingan 4, 5, 6 yang juga dihasilkan spk ini tidak ada di sistem manual karena perangkingan 4, 5, 6 tidak memenuhi evaluasi kriteria kualifikasi (syarat untuk lulus tender adalah memenuhi semua evaluasi kriteria).', 'maka disimpulkan bahwa spk yang dibangun menghasillkan informasi yang valid.']\n"
     ]
    }
   ],
   "source": [
    "\"\"\" CASE FOLDING: LOWERCASE \"\"\"\n",
    "lowerAbstrak = []\n",
    "for i in range(len(tokensAbstrak)):\n",
    "    lowerAbstrak.append(tokensAbstrak[i].lower())\n",
    "\n",
    "print(lowerAbstrak)"
   ]
  },
  {
   "cell_type": "code",
   "execution_count": 28,
   "metadata": {},
   "outputs": [
    {
     "name": "stdout",
     "output_type": "stream",
     "text": [
      "['pengambilan keputusan dalam penentuan pemenang tender pekerjaan konstruksi (tidak kompleks) pada pembangunan gedung kuliah fakultas ekonomi univesitas udayana (unud) oleh panitia tender di bagian perlengkapan rektorat unud masih dilakukan secara manual (dengan software microsoft excel dan word), sehingga untuk membantu dan mempercepat pengambilan keputusan tersebut (dalam situasi beberapa/banyak peserta tender memenuhi semua evaluasi kriteria dan memiliki harga penawaran terkoreksi terendah yang sama di bawah hps) maka penelitian ini bertujuan untuk membangun spk (sistem pendukung keputusan) dengan metode fuzzy ahp.', 'versi fuzzy ahp yang dipakai adalah model chang () karena memiliki langkah-langkah sederhana dan mudah diaplikasikan pada penelitian ini.', 'hasil penelitian menunjukkan bahwa spk yang dibangun menghasilkan perangkingan peserta , , dan  yang sama dengan sistem manual yang ada di bagian perlengkapan rektorat unud, meskipun perangkingan , ,  yang juga dihasilkan spk ini tidak ada di sistem manual karena perangkingan , ,  tidak memenuhi evaluasi kriteria kualifikasi (syarat untuk lulus tender adalah memenuhi semua evaluasi kriteria).', 'maka disimpulkan bahwa spk yang dibangun menghasillkan informasi yang valid.']\n"
     ]
    }
   ],
   "source": [
    "\"\"\" CASE FOLDING: REMOVING NUMBER \"\"\"\n",
    "abstrakNoNumber = []\n",
    "for i in range(len(lowerAbstrak)):\n",
    "    abstrakNoNumber.append(re.sub(r\"\\d+\", \"\", lowerAbstrak[i]))\n",
    "\n",
    "print(abstrakNoNumber)"
   ]
  },
  {
   "cell_type": "code",
   "execution_count": 30,
   "metadata": {},
   "outputs": [
    {
     "name": "stdout",
     "output_type": "stream",
     "text": [
      "['pengambilan keputusan dalam penentuan pemenang tender pekerjaan konstruksi tidak kompleks pada pembangunan gedung kuliah fakultas ekonomi univesitas udayana unud oleh panitia tender di bagian perlengkapan rektorat unud masih dilakukan secara manual dengan software microsoft excel dan word sehingga untuk membantu dan mempercepat pengambilan keputusan tersebut dalam situasi beberapabanyak peserta tender memenuhi semua evaluasi kriteria dan memiliki harga penawaran terkoreksi terendah yang sama di bawah hps maka penelitian ini bertujuan untuk membangun spk sistem pendukung keputusan dengan metode fuzzy ahp', 'versi fuzzy ahp yang dipakai adalah model chang  karena memiliki langkahlangkah sederhana dan mudah diaplikasikan pada penelitian ini', 'hasil penelitian menunjukkan bahwa spk yang dibangun menghasilkan perangkingan peserta   dan  yang sama dengan sistem manual yang ada di bagian perlengkapan rektorat unud meskipun perangkingan    yang juga dihasilkan spk ini tidak ada di sistem manual karena perangkingan    tidak memenuhi evaluasi kriteria kualifikasi syarat untuk lulus tender adalah memenuhi semua evaluasi kriteria', 'maka disimpulkan bahwa spk yang dibangun menghasillkan informasi yang valid']\n"
     ]
    }
   ],
   "source": [
    "\"\"\" CASE FOLDING: REMOVING PUNCTUATION \"\"\"\n",
    "abstrakNoPunct = []\n",
    "for i in range(len(abstrakNoNumber)):\n",
    "    abstrakNoPunct.append(abstrakNoNumber[i].translate(str.maketrans(\"\", \"\", string.punctuation)))\n",
    "\n",
    "print(abstrakNoPunct)"
   ]
  },
  {
   "cell_type": "code",
   "execution_count": 31,
   "metadata": {},
   "outputs": [
    {
     "name": "stdout",
     "output_type": "stream",
     "text": [
      "['pengambilan keputusan dalam penentuan pemenang tender pekerjaan konstruksi tidak kompleks pada pembangunan gedung kuliah fakultas ekonomi univesitas udayana unud oleh panitia tender di bagian perlengkapan rektorat unud masih dilakukan secara manual dengan software microsoft excel dan word sehingga untuk membantu dan mempercepat pengambilan keputusan tersebut dalam situasi beberapabanyak peserta tender memenuhi semua evaluasi kriteria dan memiliki harga penawaran terkoreksi terendah yang sama di bawah hps maka penelitian ini bertujuan untuk membangun spk sistem pendukung keputusan dengan metode fuzzy ahp', 'versi fuzzy ahp yang dipakai adalah model chang  karena memiliki langkahlangkah sederhana dan mudah diaplikasikan pada penelitian ini', 'hasil penelitian menunjukkan bahwa spk yang dibangun menghasilkan perangkingan peserta   dan  yang sama dengan sistem manual yang ada di bagian perlengkapan rektorat unud meskipun perangkingan    yang juga dihasilkan spk ini tidak ada di sistem manual karena perangkingan    tidak memenuhi evaluasi kriteria kualifikasi syarat untuk lulus tender adalah memenuhi semua evaluasi kriteria', 'maka disimpulkan bahwa spk yang dibangun menghasillkan informasi yang valid']\n"
     ]
    }
   ],
   "source": [
    "\"\"\" CASE FOLDING: REMOVING WHITESPACES \"\"\"\n",
    "abstrakNoWhitespace = []\n",
    "for i in range(len(abstrakNoPunct)):\n",
    "    abstrakNoWhitespace.append(abstrakNoPunct[i].strip())\n",
    "\n",
    "print(abstrakNoWhitespace)"
   ]
  },
  {
   "cell_type": "code",
   "execution_count": 32,
   "metadata": {},
   "outputs": [
    {
     "name": "stdout",
     "output_type": "stream",
     "text": [
      "['pengambilan', 'keputusan', 'dalam', 'penentuan', 'pemenang', 'tender', 'pekerjaan', 'konstruksi', 'tidak', 'kompleks', 'pada', 'pembangunan', 'gedung', 'kuliah', 'fakultas', 'ekonomi', 'univesitas', 'udayana', 'unud', 'oleh', 'panitia', 'tender', 'di', 'bagian', 'perlengkapan', 'rektorat', 'unud', 'masih', 'dilakukan', 'secara', 'manual', 'dengan', 'software', 'microsoft', 'excel', 'dan', 'word', 'sehingga', 'untuk', 'membantu', 'dan', 'mempercepat', 'pengambilan', 'keputusan', 'tersebut', 'dalam', 'situasi', 'beberapabanyak', 'peserta', 'tender', 'memenuhi', 'semua', 'evaluasi', 'kriteria', 'dan', 'memiliki', 'harga', 'penawaran', 'terkoreksi', 'terendah', 'yang', 'sama', 'di', 'bawah', 'hps', 'maka', 'penelitian', 'ini', 'bertujuan', 'untuk', 'membangun', 'spk', 'sistem', 'pendukung', 'keputusan', 'dengan', 'metode', 'fuzzy', 'ahp', 'versi', 'fuzzy', 'ahp', 'yang', 'dipakai', 'adalah', 'model', 'chang', 'karena', 'memiliki', 'langkahlangkah', 'sederhana', 'dan', 'mudah', 'diaplikasikan', 'pada', 'penelitian', 'ini', 'hasil', 'penelitian', 'menunjukkan', 'bahwa', 'spk', 'yang', 'dibangun', 'menghasilkan', 'perangkingan', 'peserta', 'dan', 'yang', 'sama', 'dengan', 'sistem', 'manual', 'yang', 'ada', 'di', 'bagian', 'perlengkapan', 'rektorat', 'unud', 'meskipun', 'perangkingan', 'yang', 'juga', 'dihasilkan', 'spk', 'ini', 'tidak', 'ada', 'di', 'sistem', 'manual', 'karena', 'perangkingan', 'tidak', 'memenuhi', 'evaluasi', 'kriteria', 'kualifikasi', 'syarat', 'untuk', 'lulus', 'tender', 'adalah', 'memenuhi', 'semua', 'evaluasi', 'kriteria', 'maka', 'disimpulkan', 'bahwa', 'spk', 'yang', 'dibangun', 'menghasillkan', 'informasi', 'yang', 'valid']\n"
     ]
    }
   ],
   "source": [
    "\"\"\" SEPARATING SENTENCES INTO WORDS \"\"\"\n",
    "abstrakWords = []\n",
    "for i in range(len(abstrakNoWhitespace)):\n",
    "    # abstrakWords.append(abstrakNoWhitespace[i].split())\n",
    "    temp = abstrakNoWhitespace[i].split()\n",
    "    for j in range(len(temp)):\n",
    "        abstrakWords.append(temp[j])\n",
    "\n",
    "print(abstrakWords)"
   ]
  },
  {
   "cell_type": "code",
   "execution_count": 33,
   "metadata": {},
   "outputs": [
    {
     "name": "stdout",
     "output_type": "stream",
     "text": [
      "['ambil', 'putus', 'dalam', 'tentu', 'menang', 'tender', 'kerja', 'konstruksi', 'tidak', 'kompleks', 'pada', 'bangun', 'gedung', 'kuliah', 'fakultas', 'ekonomi', 'univesitas', 'udayana', 'unud', 'oleh', 'panitia', 'tender', 'di', 'bagi', 'lengkap', 'rektorat', 'unud', 'masih', 'laku', 'cara', 'manual', 'dengan', 'software', 'microsoft', 'excel', 'dan', 'word', 'sehingga', 'untuk', 'bantu', 'dan', 'cepat', 'ambil', 'putus', 'sebut', 'dalam', 'situasi', 'beberapabanyak', 'serta', 'tender', 'penuh', 'semua', 'evaluasi', 'kriteria', 'dan', 'milik', 'harga', 'tawar', 'koreksi', 'rendah', 'yang', 'sama', 'di', 'bawah', 'hps', 'maka', 'teliti', 'ini', 'tuju', 'untuk', 'bangun', 'spk', 'sistem', 'dukung', 'putus', 'dengan', 'metode', 'fuzzy', 'ahp', 'versi', 'fuzzy', 'ahp', 'yang', 'pakai', 'adalah', 'model', 'chang', 'karena', 'milik', 'langkahlangkah', 'sederhana', 'dan', 'mudah', 'aplikasi', 'pada', 'teliti', 'ini', 'hasil', 'teliti', 'tunjuk', 'bahwa', 'spk', 'yang', 'bangun', 'hasil', 'rangking', 'serta', 'dan', 'yang', 'sama', 'dengan', 'sistem', 'manual', 'yang', 'ada', 'di', 'bagi', 'lengkap', 'rektorat', 'unud', 'meski', 'rangking', 'yang', 'juga', 'hasil', 'spk', 'ini', 'tidak', 'ada', 'di', 'sistem', 'manual', 'karena', 'rangking', 'tidak', 'penuh', 'evaluasi', 'kriteria', 'kualifikasi', 'syarat', 'untuk', 'lulus', 'tender', 'adalah', 'penuh', 'semua', 'evaluasi', 'kriteria', 'maka', 'simpul', 'bahwa', 'spk', 'yang', 'bangun', 'menghasillkan', 'informasi', 'yang', 'valid']\n"
     ]
    }
   ],
   "source": [
    "\"\"\" STEMMING USING SASTRAWI \"\"\"\n",
    "factory = StemmerFactory()\n",
    "stemmer = factory.create_stemmer()\n",
    "\n",
    "abstrakStem = []\n",
    "for i in range(len(abstrakWords)):\n",
    "    abstrakStem.append(stemmer.stem(abstrakWords[i]))\n",
    "\n",
    "print(abstrakStem)"
   ]
  },
  {
   "cell_type": "code",
   "execution_count": 37,
   "metadata": {},
   "outputs": [],
   "source": [
    "f = open('result.txt', 'w')\n",
    "for string in abstrakStem:\n",
    "   f.write(string + '\\n')\n",
    "f.close()"
   ]
  },
  {
   "cell_type": "code",
   "execution_count": null,
   "metadata": {},
   "outputs": [],
   "source": []
  }
 ],
 "metadata": {
  "kernelspec": {
   "display_name": "Python 3",
   "language": "python",
   "name": "python3"
  },
  "language_info": {
   "codemirror_mode": {
    "name": "ipython",
    "version": 3
   },
   "file_extension": ".py",
   "mimetype": "text/x-python",
   "name": "python",
   "nbconvert_exporter": "python",
   "pygments_lexer": "ipython3",
   "version": "3.7.4"
  }
 },
 "nbformat": 4,
 "nbformat_minor": 2
}
