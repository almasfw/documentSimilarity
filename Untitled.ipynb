{
 "cells": [
  {
   "cell_type": "code",
   "execution_count": 5,
   "metadata": {},
   "outputs": [],
   "source": [
    "import re\n",
    "import nltk\n",
    "import string\n",
    "from Sastrawi.Stemmer.StemmerFactory import StemmerFactory\n",
    "import pandas\n",
    "pandas.set_option('display.max_rows', None)\n",
    "pandas.set_option('display.max_columns', None)\n",
    "\n",
    "def preprocessing(abstrak):\n",
    "#     f = open(\"{}.txt\".format(k), 'r', errors = 'ignore')\n",
    "#     abstrak = f.read()\n",
    "\n",
    "    #TOKENIZING\n",
    "    abstrak = nltk.tokenize.sent_tokenize(abstrak)\n",
    "\n",
    "    #CASE FOLDING: LOWERCASE\n",
    "    arrayAbstrak = []\n",
    "    for i in range(len(abstrak)):\n",
    "        arrayAbstrak.append(abstrak[i].lower())\n",
    "\n",
    "    #CASE FOLDING: REMOVING NUMBER\n",
    "    for i in range(len(arrayAbstrak)):\n",
    "        arrayAbstrak[i] = re.sub(r\"\\d+\", \"\", arrayAbstrak[i])\n",
    "\n",
    "    #CASE FOLDING: REMOVING PUNCTUATION\n",
    "    for i in range(len(arrayAbstrak)):\n",
    "        arrayAbstrak[i] = arrayAbstrak[i].translate(str.maketrans(\"\", \"\", string.punctuation))\n",
    "\n",
    "    #CASE FOLDING: REMOVING WHITESPACES\n",
    "    for i in range(len(arrayAbstrak)):\n",
    "        arrayAbstrak[i] = arrayAbstrak[i].strip()\n",
    "\n",
    "    #SEPARATING SENTENCES INTO WORDS\n",
    "    abstrakWords = []\n",
    "    for i in range(len(arrayAbstrak)):\n",
    "        temp = arrayAbstrak[i].split()\n",
    "        for j in range(len(temp)):\n",
    "            abstrakWords.append(temp[j])\n",
    "\n",
    "    #STEMMING USING SASTRAWI\n",
    "    factory = StemmerFactory()\n",
    "    stemmer = factory.create_stemmer()\n",
    "    for i in range(len(abstrakWords)):\n",
    "        abstrakWords[i] = stemmer.stem(abstrakWords[i])\n",
    "        \n",
    "    \n",
    "        \n",
    "    return abstrakWords"
   ]
  },
  {
   "cell_type": "code",
   "execution_count": 7,
   "metadata": {},
   "outputs": [
    {
     "data": {
      "text/plain": [
       "['nilai', 'matematika', 'saya', 'baik', 'di', 'kelas']"
      ]
     },
     "execution_count": 7,
     "metadata": {},
     "output_type": "execute_result"
    }
   ],
   "source": [
    "preprocessing('nilai matematika saya terbaik di kelas')"
   ]
  },
  {
   "cell_type": "code",
   "execution_count": 12,
   "metadata": {},
   "outputs": [
    {
     "name": "stdout",
     "output_type": "stream",
     "text": [
      "['pelajaran', 'matematika', 'sulit']\n"
     ]
    }
   ],
   "source": [
    "from Sastrawi.StopWordRemover.StopWordRemoverFactory import StopWordRemoverFactory\n",
    "from nltk.tokenize import word_tokenize \n",
    "\n",
    "factory = StopWordRemoverFactory()\n",
    "stopword = factory.create_stop_word_remover()\n",
    "\n",
    "kalimat = \"Pelajaran matematika itu sulit/.\"\n",
    "kalimat = kalimat.translate(str.maketrans('','',string.punctuation)).lower()\n",
    "\n",
    "stop = stopword.remove(kalimat)\n",
    "tokens = nltk.tokenize.word_tokenize(stop)\n",
    "\n",
    "print(tokens)"
   ]
  },
  {
   "cell_type": "code",
   "execution_count": null,
   "metadata": {},
   "outputs": [],
   "source": []
  }
 ],
 "metadata": {
  "kernelspec": {
   "display_name": "Python 3",
   "language": "python",
   "name": "python3"
  },
  "language_info": {
   "codemirror_mode": {
    "name": "ipython",
    "version": 3
   },
   "file_extension": ".py",
   "mimetype": "text/x-python",
   "name": "python",
   "nbconvert_exporter": "python",
   "pygments_lexer": "ipython3",
   "version": "3.7.4"
  }
 },
 "nbformat": 4,
 "nbformat_minor": 4
}
